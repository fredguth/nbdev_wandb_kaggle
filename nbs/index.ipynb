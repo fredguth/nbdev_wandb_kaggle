{
 "cells": [
  {
   "cell_type": "code",
   "execution_count": null,
   "metadata": {},
   "outputs": [],
   "source": [
    "#hide\n",
    "#from your_lib.core import *"
   ]
  },
  {
   "cell_type": "markdown",
   "metadata": {},
   "source": [
    "# nbdev + fastai + wandb + kaggle \n",
    "\n",
    "> This repo shows how to setup a project for a kaggle competition using nbdev, fastai and wandb.  As an example we used the classical [Dogs vs Cats](https://www.kaggle.com/c/dogs-vs-cats-redux-kernels-edition) competition "
   ]
  },
  {
   "cell_type": "markdown",
   "metadata": {},
   "source": [
    "## Steps\n",
    "1) Fork nbdev_template project (fastai/nbdev_template)\n",
    "\n",
    "`gh repo fork https://github.com/fastai/nbdev_template.git --clone`\n",
    "\n",
    "2) Change settings.ini\n",
    "\n",
    "3) set .env\n",
    "\n",
    "💥 danger: check if .env is in .gitignore.  Do not publish your .environment file.\n",
    "\n",
    "4) In the root directory:\n",
    "`nbdev_new`\n",
    "\n",
    "`nbdev_install_git_hooks`\n"
   ]
  },
  {
   "cell_type": "markdown",
   "metadata": {},
   "source": [
    "## Notebooks\n",
    "- [] 00_setup.ipynb\n",
    "- [] 01_eda.ipynb\n",
    "- [] 02_train.ipynb\n",
    "- [] 03_analyse.ipynb\n",
    "- [] 04_submit.ipynb"
   ]
  },
  {
   "cell_type": "markdown",
   "metadata": {},
   "source": [
    "## How to use"
   ]
  },
  {
   "cell_type": "markdown",
   "metadata": {},
   "source": [
    "Fill me in please! Don't forget code examples:"
   ]
  },
  {
   "cell_type": "code",
   "execution_count": null,
   "metadata": {},
   "outputs": [],
   "source": [
    "1+1"
   ]
  },
  {
   "cell_type": "code",
   "execution_count": null,
   "metadata": {},
   "outputs": [],
   "source": []
  }
 ],
 "metadata": {
  "kernelspec": {
   "display_name": "Python 3.9.0 64-bit ('infod': conda)",
   "name": "python3"
  }
 },
 "nbformat": 4,
 "nbformat_minor": 2
}

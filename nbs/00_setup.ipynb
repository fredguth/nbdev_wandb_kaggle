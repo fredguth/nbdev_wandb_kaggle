{
 "cells": [
  {
   "cell_type": "code",
   "execution_count": null,
   "metadata": {},
   "outputs": [],
   "source": [
    "# default_exp setup"
   ]
  },
  {
   "cell_type": "markdown",
   "metadata": {},
   "source": [
    "# Setup functions\n",
    "> setup details here."
   ]
  },
  {
   "cell_type": "code",
   "execution_count": null,
   "metadata": {},
   "outputs": [],
   "source": [
    "#hide\n",
    "from nbdev.showdoc import *"
   ]
  },
  {
   "cell_type": "code",
   "execution_count": null,
   "metadata": {},
   "outputs": [],
   "source": [
    "# !pip install -Uqq kaggle\n",
    "# !pip install -Uqq wandb\n",
    "# !pip install -Uqq python-dotenv"
   ]
  },
  {
   "cell_type": "code",
   "execution_count": null,
   "metadata": {},
   "outputs": [],
   "source": [
    "from fastai.vision.all import *\n",
    "from kaggle.api.kaggle_api_extended import KaggleApi\n",
    "import wandb\n",
    "from dotenv import load_dotenv\n",
    "import os\n",
    "from tqdm import tqdm\n",
    "\n",
    "load_dotenv()\n",
    "k = KaggleApi()\n",
    "k.authenticate()"
   ]
  },
  {
   "cell_type": "code",
   "execution_count": null,
   "metadata": {},
   "outputs": [],
   "source": [
    "#export \n",
    "def get_kaggle_dataset(competition):\n",
    "    'download and extract kaggle competition dataset to fastai data folder'\n",
    "    config = Config()\n",
    "    zipdest = Path(config.d['archive_path'])\n",
    "    zipname = Path(config.d['archive_path']+'/'+competition+'.zip')\n",
    "    if not zipname.exists():\n",
    "        print (f'${zipname} does not exist. Downloading...')\n",
    "        k.competition_download_files(competition, path=zipdest) \n",
    "    dest = Path(config.d['data_path']+'/'+competition+'/')\n",
    "    if not dest.exists():\n",
    "        print (f'${dest} does not exist.  Extracting...')\n",
    "        file_extract(zipname, dest=dest)\n",
    "        files = os.listdir(dest)\n",
    "        for f in files:\n",
    "            if f.split('.')[-1]=='zip':\n",
    "                print(dest/f)\n",
    "                file_extract(dest/f)\n",
    "                os.remove(dest/f)\n",
    "    return dest"
   ]
  },
  {
   "cell_type": "code",
   "execution_count": null,
   "metadata": {},
   "outputs": [
    {
     "data": {
      "text/plain": [
       "[dogs-vs-cats, dogs-vs-cats-redux-kernels-edition]"
      ]
     },
     "execution_count": null,
     "metadata": {},
     "output_type": "execute_result"
    }
   ],
   "source": [
    "k.competitions_list(search='dogs')"
   ]
  },
  {
   "cell_type": "code",
   "execution_count": null,
   "metadata": {},
   "outputs": [
    {
     "data": {
      "text/plain": [
       "Path('/home/fredguth/.fastai/data/dogs-vs-cats-redux-kernels-edition')"
      ]
     },
     "execution_count": null,
     "metadata": {},
     "output_type": "execute_result"
    }
   ],
   "source": [
    "p = get_kaggle_dataset('dogs-vs-cats-redux-kernels-edition')\n",
    "p"
   ]
  },
  {
   "cell_type": "code",
   "execution_count": null,
   "metadata": {},
   "outputs": [],
   "source": [
    "# export\n",
    "def download_and_log(competition):\n",
    "    # 🚀 start a run, with a type to label it and a project it can call home\n",
    "    with wandb.init(project=competition, job_type=\"download-data\") as run:\n",
    "        path = get_kaggle_dataset(competition)\n",
    "        sizes = {}\n",
    "        raw_data = wandb.Artifact(\n",
    "            competition, type=\"dataset\",\n",
    "            description=f'Raw {competition} dataset.',\n",
    "            metadata={\"source\": \"Kaggle\"})\n",
    "        for b, ds, _ in os.walk(path):\n",
    "            for d in ds:\n",
    "                files = get_image_files(b+'/'+d)\n",
    "                sizes[d] = len(files)\n",
    "                for f in tqdm(files):\n",
    "                    raw_data.add_reference('file://'+str(f))\n",
    "        raw_data.metadata['sizes']=sizes\n",
    "        # ✍️ Save the artifact to W&B.\n",
    "        run.log_artifact(raw_data)"
   ]
  },
  {
   "cell_type": "code",
   "execution_count": null,
   "metadata": {},
   "outputs": [
    {
     "name": "stderr",
     "output_type": "stream",
     "text": [
      "Failed to detect the name of this notebook, you can set it manually with the WANDB_NOTEBOOK_NAME environment variable to enable code saving.\n",
      "\u001b[34m\u001b[1mwandb\u001b[0m: Currently logged in as: \u001b[33mfredguth\u001b[0m (use `wandb login --relogin` to force relogin)\n"
     ]
    },
    {
     "data": {
      "text/html": [
       "\n",
       "                Tracking run with wandb version 0.10.33<br/>\n",
       "                Syncing run <strong style=\"color:#cdcd00\">zesty-glitter-1</strong> to <a href=\"https://wandb.ai\" target=\"_blank\">Weights & Biases</a> <a href=\"https://docs.wandb.com/integrations/jupyter.html\" target=\"_blank\">(Documentation)</a>.<br/>\n",
       "                Project page: <a href=\"https://wandb.ai/fredguth/dogs-vs-cats-redux-kernels-edition\" target=\"_blank\">https://wandb.ai/fredguth/dogs-vs-cats-redux-kernels-edition</a><br/>\n",
       "                Run page: <a href=\"https://wandb.ai/fredguth/dogs-vs-cats-redux-kernels-edition/runs/x6qq1egk\" target=\"_blank\">https://wandb.ai/fredguth/dogs-vs-cats-redux-kernels-edition/runs/x6qq1egk</a><br/>\n",
       "                Run data is saved locally in <code>/home/fredguth/kaggle/dogscats/nbs/wandb/run-20210703_000748-x6qq1egk</code><br/><br/>\n",
       "            "
      ],
      "text/plain": [
       "<IPython.core.display.HTML object>"
      ]
     },
     "metadata": {},
     "output_type": "display_data"
    },
    {
     "name": "stderr",
     "output_type": "stream",
     "text": [
      "100%|██████████| 12500/12500 [00:03<00:00, 4037.25it/s]\n",
      "100%|██████████| 25000/25000 [00:06<00:00, 4070.46it/s]\n"
     ]
    },
    {
     "data": {
      "text/html": [
       "<br/>Waiting for W&B process to finish, PID 207355<br/>Program ended successfully."
      ],
      "text/plain": [
       "<IPython.core.display.HTML object>"
      ]
     },
     "metadata": {},
     "output_type": "display_data"
    },
    {
     "data": {
      "application/vnd.jupyter.widget-view+json": {
       "model_id": "e9b5a9801ae14010ae3359ce022a3729",
       "version_major": 2,
       "version_minor": 0
      },
      "text/plain": [
       "VBox(children=(Label(value=' 0.00MB of 0.00MB uploaded (0.00MB deduped)\\r'), FloatProgress(value=1.0, max=1.0)…"
      ]
     },
     "metadata": {},
     "output_type": "display_data"
    },
    {
     "data": {
      "text/html": [
       "Find user logs for this run at: <code>/home/fredguth/kaggle/dogscats/nbs/wandb/run-20210703_000748-x6qq1egk/logs/debug.log</code>"
      ],
      "text/plain": [
       "<IPython.core.display.HTML object>"
      ]
     },
     "metadata": {},
     "output_type": "display_data"
    },
    {
     "data": {
      "text/html": [
       "Find internal logs for this run at: <code>/home/fredguth/kaggle/dogscats/nbs/wandb/run-20210703_000748-x6qq1egk/logs/debug-internal.log</code>"
      ],
      "text/plain": [
       "<IPython.core.display.HTML object>"
      ]
     },
     "metadata": {},
     "output_type": "display_data"
    },
    {
     "data": {
      "text/html": [
       "Synced 6 W&B file(s), 0 media file(s), 0 artifact file(s) and 0 other file(s)"
      ],
      "text/plain": [
       "<IPython.core.display.HTML object>"
      ]
     },
     "metadata": {},
     "output_type": "display_data"
    },
    {
     "data": {
      "text/html": [
       "\n",
       "                    <br/>Synced <strong style=\"color:#cdcd00\">zesty-glitter-1</strong>: <a href=\"https://wandb.ai/fredguth/dogs-vs-cats-redux-kernels-edition/runs/x6qq1egk\" target=\"_blank\">https://wandb.ai/fredguth/dogs-vs-cats-redux-kernels-edition/runs/x6qq1egk</a><br/>\n",
       "                "
      ],
      "text/plain": [
       "<IPython.core.display.HTML object>"
      ]
     },
     "metadata": {},
     "output_type": "display_data"
    }
   ],
   "source": [
    "download_and_log('dogs-vs-cats-redux-kernels-edition')"
   ]
  }
 ],
 "metadata": {
  "kernelspec": {
   "display_name": "Python 3.8.8 64-bit ('base': conda)",
   "name": "python3"
  }
 },
 "nbformat": 4,
 "nbformat_minor": 2
}

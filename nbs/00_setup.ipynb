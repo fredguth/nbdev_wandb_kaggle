{
 "cells": [
  {
   "cell_type": "code",
   "execution_count": 1,
   "metadata": {},
   "outputs": [],
   "source": [
    "# default_exp data"
   ]
  },
  {
   "cell_type": "markdown",
   "metadata": {},
   "source": [
    "# Setup functions"
   ]
  },
  {
   "cell_type": "code",
   "execution_count": 2,
   "metadata": {},
   "outputs": [],
   "source": [
    "#hide\n",
    "from nbdev.showdoc import *"
   ]
  },
  {
   "cell_type": "markdown",
   "metadata": {},
   "source": [
    "# Setup functions\n",
    "> get_kaggle_dataset(competition)\n",
    "> pathFromCompetition(competition)\n",
    "> download_and_log(competition)\n",
    "> setup(competition)"
   ]
  },
  {
   "cell_type": "markdown",
   "metadata": {},
   "source": []
  },
  {
   "cell_type": "code",
   "execution_count": 3,
   "metadata": {},
   "outputs": [],
   "source": [
    "# !pip install -Uqq kaggle\n",
    "# !pip install -Uqq wandb\n",
    "# !pip install -Uqq python-dotenv\n",
    "!pip install -Uqq pytest"
   ]
  },
  {
   "cell_type": "code",
   "execution_count": 19,
   "metadata": {},
   "outputs": [],
   "source": [
    "# export\n",
    "import warnings\n",
    "warnings.filterwarnings('ignore')\n",
    "from dotenv import load_dotenv\n",
    "# https://technowhisp.com/kaggle-api-python-documentation/\n",
    "from kaggle.api.kaggle_api_extended import KaggleApi\n",
    "from fastai.vision.all import *\n",
    "import wandb\n",
    "import os\n",
    "from tqdm import tqdm"
   ]
  },
  {
   "cell_type": "code",
   "execution_count": 5,
   "metadata": {},
   "outputs": [],
   "source": [
    "load_dotenv()\n",
    "k = KaggleApi()\n",
    "k.authenticate()"
   ]
  },
  {
   "cell_type": "markdown",
   "metadata": {},
   "source": [
    "## Download data from Kaggle\n",
    "> Download any competition dataset and extract to expected fastai folder.  Uses fastai config to find out where to extract the dataset locally."
   ]
  },
  {
   "cell_type": "code",
   "execution_count": 6,
   "metadata": {},
   "outputs": [],
   "source": [
    "#export \n",
    "def get_kaggle_dataset(competition):\n",
    "    \"\"\" Download and extract kaggle competition dataset to fastai data folder and return path to files.\n",
    "    get_kaggle_dataset(string) -> Path\n",
    "    args:\n",
    "        competition: string containing competition name in Kaggle\n",
    "    returns:\n",
    "        path to local competition data\"\"\"\n",
    "    config = Config()\n",
    "    zipdest = Path(config.d['archive_path'])\n",
    "    zipname = Path(config.d['archive_path']+'/'+competition+'.zip')\n",
    "    if not zipname.exists():\n",
    "        print (f'${zipname} does not exist.')\n",
    "        try:\n",
    "            k.competition_download_files(competition, path=zipdest)\n",
    "        except:\n",
    "            raise Exception(f'No competition {competition} found at Kaggle.')\n",
    "    print('Downloading....')\n",
    "    dest = Path(config.d['data_path']+'/'+competition+'/')\n",
    "    if not dest.exists():\n",
    "        print (f'${dest} does not exist.  Extracting...')\n",
    "        file_extract(zipname, dest=dest)\n",
    "        files = os.listdir(dest)\n",
    "        for f in files:\n",
    "            if f.split('.')[-1]=='zip':\n",
    "                print(dest/f)\n",
    "                file_extract(dest/f)\n",
    "                os.remove(dest/f)\n",
    "    return dest"
   ]
  },
  {
   "cell_type": "code",
   "execution_count": 7,
   "metadata": {},
   "outputs": [
    {
     "name": "stdout",
     "output_type": "stream",
     "text": [
      "$/home/fred/.fastai/archive/blah.zip does not exist.\n"
     ]
    }
   ],
   "source": [
    "import pytest\n",
    "with pytest.raises(Exception) as e_info:\n",
    "    get_kaggle_dataset('blah')\n",
    "assert \"Exception\" in str(e_info)"
   ]
  },
  {
   "cell_type": "code",
   "execution_count": 8,
   "metadata": {},
   "outputs": [
    {
     "data": {
      "text/plain": [
       "[siim-covid19-detection,\n",
       " siim-isic-melanoma-classification,\n",
       " siim-acr-pneumothorax-segmentation]"
      ]
     },
     "execution_count": 8,
     "metadata": {},
     "output_type": "execute_result"
    }
   ],
   "source": [
    "k.competitions_list(search='siim')"
   ]
  },
  {
   "cell_type": "code",
   "execution_count": 9,
   "metadata": {},
   "outputs": [],
   "source": [
    "#p = get_kaggle_dataset('dogs-vs-cats-redux-kernels-edition')\n",
    "#p"
   ]
  },
  {
   "cell_type": "code",
   "execution_count": 10,
   "metadata": {},
   "outputs": [],
   "source": [
    "# export\n",
    "def pathFromCompetition(competition):\n",
    "    \"\"\"Returns path to local competition files.\n",
    "    args:\n",
    "    competition: string containing name of competition\"\"\"\n",
    "    config = Config()\n",
    "    ret =  Path(config.d['data_path']+'/'+competition+'/')\n",
    "    if not ret.exists(): raise Exception('Please download the competition data first.')\n",
    "    return ret"
   ]
  },
  {
   "cell_type": "code",
   "execution_count": 11,
   "metadata": {},
   "outputs": [],
   "source": [
    "# export\n",
    "def confirm(msg=\"\"):\n",
    "    \"\"\"\n",
    "    Ask user to enter Y or N (case-insensitive).\n",
    "    :return: True if the answer is Y.\n",
    "    :rtype: bool\n",
    "    \"\"\"\n",
    "    answer = \"\"\n",
    "    if not msg: msg = \"OK to continue\"\n",
    "    while answer not in [\"y\", \"n\"]:\n",
    "        answer = input(msg+\" [Y/N]? \").lower()\n",
    "    return answer == \"y\""
   ]
  },
  {
   "cell_type": "markdown",
   "metadata": {},
   "source": [
    "## Download data from Kaggle and log at WandB\n"
   ]
  },
  {
   "cell_type": "code",
   "execution_count": 12,
   "metadata": {},
   "outputs": [],
   "source": [
    "# export\n",
    "def download_and_log(competition, entity=None):\n",
    "    \"\"\" Start a Run for data download at WandB, download competition data and log data reference in local machine as an Artifact at WandB.\n",
    "    args:\n",
    "        competition: string containing competition name\n",
    "    returns:\n",
    "        Path to competition data\n",
    "    \"\"\"\n",
    "    try:\n",
    "        p = pathFromCompetition(competition)\n",
    "        if not confirm(f'Data for competition found at {p}\\n Force new download '): return p\n",
    "    except: pass\n",
    "    try:\n",
    "        k.competition_list_files(competition)\n",
    "    except:\n",
    "        print (f'No competition {competition} found at Kaggle.')\n",
    "        return None\n",
    "    # 🚀 start a run, with a type to label it and a project it can call home\n",
    "    wandb.init()\n",
    "    with wandb.init(project=competition, entity=entity, job_type=\"download-data\") as run:\n",
    "        path = get_kaggle_dataset(competition)\n",
    "        sizes = {}\n",
    "        raw_data = wandb.Artifact(\n",
    "            competition, type=\"dataset\",\n",
    "            description=f'Raw {competition} dataset.',\n",
    "            metadata={\"source\": \"Kaggle\"})\n",
    "        for b, ds, _ in os.walk(path):\n",
    "            for d in ds:\n",
    "                files = get_image_files(b+'/'+d)\n",
    "                sizes[d] = len(files)\n",
    "                for f in tqdm(files):\n",
    "                    raw_data.add_reference('file://'+str(f))\n",
    "        raw_data.metadata['sizes']=sizes\n",
    "        # ✍️ Save the artifact to W&B.\n",
    "        run.log_artifact(raw_data)\n",
    "        return path"
   ]
  },
  {
   "cell_type": "code",
   "execution_count": 17,
   "metadata": {},
   "outputs": [],
   "source": [
    "#export\n",
    "def wandb_log(competition, entity=None):\n",
    "     with wandb.init(project=competition, entity=entity, job_type=\"download-data\") as run:\n",
    "        path = pathFromCompetition(competition)\n",
    "        sizes = {}\n",
    "        raw_data = wandb.Artifact(\n",
    "            competition, type=\"dataset\",\n",
    "            description=f'Raw {competition} dataset.',\n",
    "            metadata={\"source\": \"Kaggle\"})\n",
    "        for b, ds, _ in os.walk(path):\n",
    "            for d in ds:\n",
    "                files = get_image_files(b+'/'+d)\n",
    "                sizes[d] = len(files)\n",
    "                for f in tqdm(files):\n",
    "                    raw_data.add_reference('file://'+str(f))\n",
    "        raw_data.metadata['sizes']=sizes\n",
    "        # ✍️ Save the artifact to W&B.\n",
    "        run.log_artifact(raw_data)\n",
    "        return path"
   ]
  },
  {
   "cell_type": "code",
   "execution_count": 13,
   "metadata": {},
   "outputs": [],
   "source": [
    "#download_and_log('blah')"
   ]
  },
  {
   "cell_type": "code",
   "execution_count": null,
   "metadata": {},
   "outputs": [],
   "source": [
    "#p = wandb_log('siim-covid19-detection', 'nido')\n",
    "#p"
   ]
  },
  {
   "cell_type": "code",
   "execution_count": 14,
   "metadata": {},
   "outputs": [],
   "source": [
    "# export\n",
    "def setup(competition, entity=None):\n",
    "    \"\"\" Returns Path to local competition files, download and log data if needed.\n",
    "    \"\"\"\n",
    "    # load_dotenv()\n",
    "    k = KaggleApi()\n",
    "    k.authenticate()\n",
    "    try:\n",
    "        k.competition_list_files(competition)\n",
    "    except:\n",
    "        print (f'No competition {competition} found.')\n",
    "        return None\n",
    "    try:\n",
    "        p = pathFromCompetition(competition)\n",
    "    except:\n",
    "        if not confirm(f'Download data for {competition} '): return None\n",
    "        return download_and_log(competition, entity)\n",
    "    return p"
   ]
  },
  {
   "cell_type": "code",
   "execution_count": 15,
   "metadata": {},
   "outputs": [
    {
     "name": "stderr",
     "output_type": "stream",
     "text": [
      "Failed to detect the name of this notebook, you can set it manually with the WANDB_NOTEBOOK_NAME environment variable to enable code saving.\n",
      "\u001b[34m\u001b[1mwandb\u001b[0m: Currently logged in as: \u001b[33mfredguth\u001b[0m (use `wandb login --relogin` to force relogin)\n"
     ]
    },
    {
     "data": {
      "text/html": [
       "\n",
       "                Tracking run with wandb version 0.10.33<br/>\n",
       "                Syncing run <strong style=\"color:#cdcd00\">efficient-pine-1</strong> to <a href=\"https://wandb.ai\" target=\"_blank\">Weights & Biases</a> <a href=\"https://docs.wandb.com/integrations/jupyter.html\" target=\"_blank\">(Documentation)</a>.<br/>\n",
       "                Project page: <a href=\"https://wandb.ai/fredguth/covid19-nbs\" target=\"_blank\">https://wandb.ai/fredguth/covid19-nbs</a><br/>\n",
       "                Run page: <a href=\"https://wandb.ai/fredguth/covid19-nbs/runs/2esqd7vr\" target=\"_blank\">https://wandb.ai/fredguth/covid19-nbs/runs/2esqd7vr</a><br/>\n",
       "                Run data is saved locally in <code>/home/fred/covid19/nbs/wandb/run-20210707_120032-2esqd7vr</code><br/><br/>\n",
       "            "
      ],
      "text/plain": [
       "<IPython.core.display.HTML object>"
      ]
     },
     "metadata": {},
     "output_type": "display_data"
    },
    {
     "data": {
      "text/html": [
       "Finishing last run (ID:2esqd7vr) before initializing another..."
      ],
      "text/plain": [
       "<IPython.core.display.HTML object>"
      ]
     },
     "metadata": {},
     "output_type": "display_data"
    },
    {
     "data": {
      "text/html": [
       "<br/>Waiting for W&B process to finish, PID 286065<br/>Program ended successfully."
      ],
      "text/plain": [
       "<IPython.core.display.HTML object>"
      ]
     },
     "metadata": {},
     "output_type": "display_data"
    },
    {
     "data": {
      "application/vnd.jupyter.widget-view+json": {
       "model_id": "43fae662ad634f97ba8fc0bb7bb39698",
       "version_major": 2,
       "version_minor": 0
      },
      "text/plain": [
       "VBox(children=(Label(value=' 0.00MB of 0.00MB uploaded (0.00MB deduped)\\r'), FloatProgress(value=1.0, max=1.0)…"
      ]
     },
     "metadata": {},
     "output_type": "display_data"
    },
    {
     "data": {
      "text/html": [
       "Find user logs for this run at: <code>/home/fred/covid19/nbs/wandb/run-20210707_120032-2esqd7vr/logs/debug.log</code>"
      ],
      "text/plain": [
       "<IPython.core.display.HTML object>"
      ]
     },
     "metadata": {},
     "output_type": "display_data"
    },
    {
     "data": {
      "text/html": [
       "Find internal logs for this run at: <code>/home/fred/covid19/nbs/wandb/run-20210707_120032-2esqd7vr/logs/debug-internal.log</code>"
      ],
      "text/plain": [
       "<IPython.core.display.HTML object>"
      ]
     },
     "metadata": {},
     "output_type": "display_data"
    },
    {
     "data": {
      "text/html": [
       "Synced 5 W&B file(s), 0 media file(s), 0 artifact file(s) and 0 other file(s)"
      ],
      "text/plain": [
       "<IPython.core.display.HTML object>"
      ]
     },
     "metadata": {},
     "output_type": "display_data"
    },
    {
     "data": {
      "text/html": [
       "\n",
       "                    <br/>Synced <strong style=\"color:#cdcd00\">efficient-pine-1</strong>: <a href=\"https://wandb.ai/fredguth/covid19-nbs/runs/2esqd7vr\" target=\"_blank\">https://wandb.ai/fredguth/covid19-nbs/runs/2esqd7vr</a><br/>\n",
       "                "
      ],
      "text/plain": [
       "<IPython.core.display.HTML object>"
      ]
     },
     "metadata": {},
     "output_type": "display_data"
    },
    {
     "data": {
      "text/html": [
       "...Successfully finished last run (ID:2esqd7vr). Initializing new run:<br/><br/>"
      ],
      "text/plain": [
       "<IPython.core.display.HTML object>"
      ]
     },
     "metadata": {},
     "output_type": "display_data"
    },
    {
     "data": {
      "text/html": [
       "\n",
       "                Tracking run with wandb version 0.10.33<br/>\n",
       "                Syncing run <strong style=\"color:#cdcd00\">fast-music-1</strong> to <a href=\"https://wandb.ai\" target=\"_blank\">Weights & Biases</a> <a href=\"https://docs.wandb.com/integrations/jupyter.html\" target=\"_blank\">(Documentation)</a>.<br/>\n",
       "                Project page: <a href=\"https://wandb.ai/fredguth/siim-covid19-detection\" target=\"_blank\">https://wandb.ai/fredguth/siim-covid19-detection</a><br/>\n",
       "                Run page: <a href=\"https://wandb.ai/fredguth/siim-covid19-detection/runs/340circz\" target=\"_blank\">https://wandb.ai/fredguth/siim-covid19-detection/runs/340circz</a><br/>\n",
       "                Run data is saved locally in <code>/home/fred/covid19/nbs/wandb/run-20210707_120035-340circz</code><br/><br/>\n",
       "            "
      ],
      "text/plain": [
       "<IPython.core.display.HTML object>"
      ]
     },
     "metadata": {},
     "output_type": "display_data"
    },
    {
     "name": "stdout",
     "output_type": "stream",
     "text": [
      "$/home/fred/.fastai/archive/siim-covid19-detection.zip does not exist.\n",
      "Downloading....\n",
      "$/home/fred/.fastai/data/siim-covid19-detection does not exist.  Extracting...\n"
     ]
    },
    {
     "data": {
      "text/html": [
       "<br/>Waiting for W&B process to finish, PID 286143<br/>Program failed with code 1.  Press ctrl-c to abort syncing."
      ],
      "text/plain": [
       "<IPython.core.display.HTML object>"
      ]
     },
     "metadata": {},
     "output_type": "display_data"
    },
    {
     "data": {
      "application/vnd.jupyter.widget-view+json": {
       "model_id": "c1b658a61ddb4c59970324917da14ede",
       "version_major": 2,
       "version_minor": 0
      },
      "text/plain": [
       "VBox(children=(Label(value=' 0.00MB of 0.00MB uploaded (0.00MB deduped)\\r'), FloatProgress(value=1.0, max=1.0)…"
      ]
     },
     "metadata": {},
     "output_type": "display_data"
    },
    {
     "data": {
      "text/html": [
       "Find user logs for this run at: <code>/home/fred/covid19/nbs/wandb/run-20210707_120035-340circz/logs/debug.log</code>"
      ],
      "text/plain": [
       "<IPython.core.display.HTML object>"
      ]
     },
     "metadata": {},
     "output_type": "display_data"
    },
    {
     "data": {
      "text/html": [
       "Find internal logs for this run at: <code>/home/fred/covid19/nbs/wandb/run-20210707_120035-340circz/logs/debug-internal.log</code>"
      ],
      "text/plain": [
       "<IPython.core.display.HTML object>"
      ]
     },
     "metadata": {},
     "output_type": "display_data"
    },
    {
     "data": {
      "text/html": [
       "Synced 6 W&B file(s), 0 media file(s), 0 artifact file(s) and 0 other file(s)"
      ],
      "text/plain": [
       "<IPython.core.display.HTML object>"
      ]
     },
     "metadata": {},
     "output_type": "display_data"
    },
    {
     "data": {
      "text/html": [
       "\n",
       "                    <br/>Synced <strong style=\"color:#cdcd00\">fast-music-1</strong>: <a href=\"https://wandb.ai/fredguth/siim-covid19-detection/runs/340circz\" target=\"_blank\">https://wandb.ai/fredguth/siim-covid19-detection/runs/340circz</a><br/>\n",
       "                "
      ],
      "text/plain": [
       "<IPython.core.display.HTML object>"
      ]
     },
     "metadata": {},
     "output_type": "display_data"
    },
    {
     "ename": "NameError",
     "evalue": "name 'tqdm' is not defined",
     "output_type": "error",
     "traceback": [
      "\u001b[0;31m---------------------------------------------------------------------------\u001b[0m",
      "\u001b[0;31mException\u001b[0m                                 Traceback (most recent call last)",
      "\u001b[0;32m/tmp/ipykernel_283680/4204257433.py\u001b[0m in \u001b[0;36msetup\u001b[0;34m(competition, entity)\u001b[0m\n\u001b[1;32m     13\u001b[0m     \u001b[0;32mtry\u001b[0m\u001b[0;34m:\u001b[0m\u001b[0;34m\u001b[0m\u001b[0;34m\u001b[0m\u001b[0m\n\u001b[0;32m---> 14\u001b[0;31m         \u001b[0mp\u001b[0m \u001b[0;34m=\u001b[0m \u001b[0mpathFromCompetition\u001b[0m\u001b[0;34m(\u001b[0m\u001b[0mcompetition\u001b[0m\u001b[0;34m)\u001b[0m\u001b[0;34m\u001b[0m\u001b[0;34m\u001b[0m\u001b[0m\n\u001b[0m\u001b[1;32m     15\u001b[0m     \u001b[0;32mexcept\u001b[0m\u001b[0;34m:\u001b[0m\u001b[0;34m\u001b[0m\u001b[0;34m\u001b[0m\u001b[0m\n",
      "\u001b[0;32m/tmp/ipykernel_283680/43919088.py\u001b[0m in \u001b[0;36mpathFromCompetition\u001b[0;34m(competition)\u001b[0m\n\u001b[1;32m      7\u001b[0m     \u001b[0mret\u001b[0m \u001b[0;34m=\u001b[0m  \u001b[0mPath\u001b[0m\u001b[0;34m(\u001b[0m\u001b[0mconfig\u001b[0m\u001b[0;34m.\u001b[0m\u001b[0md\u001b[0m\u001b[0;34m[\u001b[0m\u001b[0;34m'data_path'\u001b[0m\u001b[0;34m]\u001b[0m\u001b[0;34m+\u001b[0m\u001b[0;34m'/'\u001b[0m\u001b[0;34m+\u001b[0m\u001b[0mcompetition\u001b[0m\u001b[0;34m+\u001b[0m\u001b[0;34m'/'\u001b[0m\u001b[0;34m)\u001b[0m\u001b[0;34m\u001b[0m\u001b[0;34m\u001b[0m\u001b[0m\n\u001b[0;32m----> 8\u001b[0;31m     \u001b[0;32mif\u001b[0m \u001b[0;32mnot\u001b[0m \u001b[0mret\u001b[0m\u001b[0;34m.\u001b[0m\u001b[0mexists\u001b[0m\u001b[0;34m(\u001b[0m\u001b[0;34m)\u001b[0m\u001b[0;34m:\u001b[0m \u001b[0;32mraise\u001b[0m \u001b[0mException\u001b[0m\u001b[0;34m(\u001b[0m\u001b[0;34m'Please download the competition data first.'\u001b[0m\u001b[0;34m)\u001b[0m\u001b[0;34m\u001b[0m\u001b[0;34m\u001b[0m\u001b[0m\n\u001b[0m\u001b[1;32m      9\u001b[0m     \u001b[0;32mreturn\u001b[0m \u001b[0mret\u001b[0m\u001b[0;34m\u001b[0m\u001b[0;34m\u001b[0m\u001b[0m\n",
      "\u001b[0;31mException\u001b[0m: Please download the competition data first.",
      "\nDuring handling of the above exception, another exception occurred:\n",
      "\u001b[0;31mNameError\u001b[0m                                 Traceback (most recent call last)",
      "\u001b[0;32m/tmp/ipykernel_283680/1024015479.py\u001b[0m in \u001b[0;36m<module>\u001b[0;34m\u001b[0m\n\u001b[0;32m----> 1\u001b[0;31m \u001b[0msetup\u001b[0m\u001b[0;34m(\u001b[0m\u001b[0;34m'siim-covid19-detection'\u001b[0m\u001b[0;34m)\u001b[0m\u001b[0;34m\u001b[0m\u001b[0;34m\u001b[0m\u001b[0m\n\u001b[0m",
      "\u001b[0;32m/tmp/ipykernel_283680/4204257433.py\u001b[0m in \u001b[0;36msetup\u001b[0;34m(competition, entity)\u001b[0m\n\u001b[1;32m     15\u001b[0m     \u001b[0;32mexcept\u001b[0m\u001b[0;34m:\u001b[0m\u001b[0;34m\u001b[0m\u001b[0;34m\u001b[0m\u001b[0m\n\u001b[1;32m     16\u001b[0m         \u001b[0;32mif\u001b[0m \u001b[0;32mnot\u001b[0m \u001b[0mconfirm\u001b[0m\u001b[0;34m(\u001b[0m\u001b[0;34mf'Download data for {competition} '\u001b[0m\u001b[0;34m)\u001b[0m\u001b[0;34m:\u001b[0m \u001b[0;32mreturn\u001b[0m \u001b[0;32mNone\u001b[0m\u001b[0;34m\u001b[0m\u001b[0;34m\u001b[0m\u001b[0m\n\u001b[0;32m---> 17\u001b[0;31m         \u001b[0;32mreturn\u001b[0m \u001b[0mdownload_and_log\u001b[0m\u001b[0;34m(\u001b[0m\u001b[0mcompetition\u001b[0m\u001b[0;34m,\u001b[0m \u001b[0mentity\u001b[0m\u001b[0;34m)\u001b[0m\u001b[0;34m\u001b[0m\u001b[0;34m\u001b[0m\u001b[0m\n\u001b[0m\u001b[1;32m     18\u001b[0m     \u001b[0;32mreturn\u001b[0m \u001b[0mp\u001b[0m\u001b[0;34m\u001b[0m\u001b[0;34m\u001b[0m\u001b[0m\n",
      "\u001b[0;32m/tmp/ipykernel_283680/4164538759.py\u001b[0m in \u001b[0;36mdownload_and_log\u001b[0;34m(competition, entity)\u001b[0m\n\u001b[1;32m     29\u001b[0m                 \u001b[0mfiles\u001b[0m \u001b[0;34m=\u001b[0m \u001b[0mget_image_files\u001b[0m\u001b[0;34m(\u001b[0m\u001b[0mb\u001b[0m\u001b[0;34m+\u001b[0m\u001b[0;34m'/'\u001b[0m\u001b[0;34m+\u001b[0m\u001b[0md\u001b[0m\u001b[0;34m)\u001b[0m\u001b[0;34m\u001b[0m\u001b[0;34m\u001b[0m\u001b[0m\n\u001b[1;32m     30\u001b[0m                 \u001b[0msizes\u001b[0m\u001b[0;34m[\u001b[0m\u001b[0md\u001b[0m\u001b[0;34m]\u001b[0m \u001b[0;34m=\u001b[0m \u001b[0mlen\u001b[0m\u001b[0;34m(\u001b[0m\u001b[0mfiles\u001b[0m\u001b[0;34m)\u001b[0m\u001b[0;34m\u001b[0m\u001b[0;34m\u001b[0m\u001b[0m\n\u001b[0;32m---> 31\u001b[0;31m                 \u001b[0;32mfor\u001b[0m \u001b[0mf\u001b[0m \u001b[0;32min\u001b[0m \u001b[0mtqdm\u001b[0m\u001b[0;34m(\u001b[0m\u001b[0mfiles\u001b[0m\u001b[0;34m)\u001b[0m\u001b[0;34m:\u001b[0m\u001b[0;34m\u001b[0m\u001b[0;34m\u001b[0m\u001b[0m\n\u001b[0m\u001b[1;32m     32\u001b[0m                     \u001b[0mraw_data\u001b[0m\u001b[0;34m.\u001b[0m\u001b[0madd_reference\u001b[0m\u001b[0;34m(\u001b[0m\u001b[0;34m'file://'\u001b[0m\u001b[0;34m+\u001b[0m\u001b[0mstr\u001b[0m\u001b[0;34m(\u001b[0m\u001b[0mf\u001b[0m\u001b[0;34m)\u001b[0m\u001b[0;34m)\u001b[0m\u001b[0;34m\u001b[0m\u001b[0;34m\u001b[0m\u001b[0m\n\u001b[1;32m     33\u001b[0m         \u001b[0mraw_data\u001b[0m\u001b[0;34m.\u001b[0m\u001b[0mmetadata\u001b[0m\u001b[0;34m[\u001b[0m\u001b[0;34m'sizes'\u001b[0m\u001b[0;34m]\u001b[0m\u001b[0;34m=\u001b[0m\u001b[0msizes\u001b[0m\u001b[0;34m\u001b[0m\u001b[0;34m\u001b[0m\u001b[0m\n",
      "\u001b[0;31mNameError\u001b[0m: name 'tqdm' is not defined"
     ]
    }
   ],
   "source": [
    "#setup('siim-covid19-detection')"
   ]
  },
  {
   "cell_type": "code",
   "execution_count": null,
   "metadata": {},
   "outputs": [],
   "source": [
    "#setup('dogs-vs-cats-redux-kernels-edition')"
   ]
  }
 ],
 "metadata": {
  "interpreter": {
   "hash": "34f21bbfaef51d9273ed2fe9c6b95713b34a121f0eae857a4e293bd1dc070e5b"
  },
  "kernelspec": {
   "display_name": "Python 3.9.5 64-bit ('covid19': conda)",
   "name": "python3"
  },
  "language_info": {
   "name": "python",
   "version": ""
  }
 },
 "nbformat": 4,
 "nbformat_minor": 2
}
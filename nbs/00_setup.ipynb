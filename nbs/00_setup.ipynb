{
 "cells": [
  {
   "cell_type": "code",
   "execution_count": null,
   "metadata": {},
   "outputs": [],
   "source": [
    "# default_exp data"
   ]
  },
  {
   "cell_type": "markdown",
   "metadata": {},
   "source": [
    "# Setup functions"
   ]
  },
  {
   "cell_type": "code",
   "execution_count": null,
   "metadata": {},
   "outputs": [],
   "source": [
    "#hide\n",
    "from nbdev.showdoc import *"
   ]
  },
  {
   "cell_type": "markdown",
   "metadata": {},
   "source": [
    "# Setup functions\n",
    "> get_kaggle_dataset(competition)\n",
    "> pathFromCompetition(competition)\n",
    "> download_and_log(competition)\n",
    "> setup(competition)"
   ]
  },
  {
   "cell_type": "markdown",
   "metadata": {},
   "source": []
  },
  {
   "cell_type": "code",
   "execution_count": null,
   "metadata": {},
   "outputs": [],
   "source": [
    "# !pip install -Uqq kaggle\n",
    "# !pip install -Uqq wandb\n",
    "# !pip install -Uqq python-dotenv\n",
    "# !pip install -Uqq pytest"
   ]
  },
  {
   "cell_type": "code",
   "execution_count": null,
   "metadata": {},
   "outputs": [],
   "source": [
    "# export\n",
    "from dotenv import load_dotenv\n",
    "# https://technowhisp.com/kaggle-api-python-documentation/\n",
    "from kaggle.api.kaggle_api_extended import KaggleApi\n",
    "from fastai.vision.all import *\n",
    "import wandb\n",
    "import os"
   ]
  },
  {
   "cell_type": "code",
   "execution_count": null,
   "metadata": {},
   "outputs": [],
   "source": [
    "load_dotenv()\n",
    "k = KaggleApi()\n",
    "k.authenticate()"
   ]
  },
  {
   "cell_type": "markdown",
   "metadata": {},
   "source": [
    "## Download data from Kaggle\n",
    "> Download any competition dataset and extract to expected fastai folder.  Uses fastai config to find out where to extract the dataset locally."
   ]
  },
  {
   "cell_type": "code",
   "execution_count": null,
   "metadata": {},
   "outputs": [],
   "source": [
    "#export \n",
    "def get_kaggle_dataset(competition):\n",
    "    \"\"\" Download and extract kaggle competition dataset to fastai data folder and return path to files.\n",
    "    get_kaggle_dataset(string) -> Path\n",
    "    args:\n",
    "        competition: string containing competition name in Kaggle\n",
    "    returns:\n",
    "        path to local competition data\"\"\"\n",
    "    config = Config()\n",
    "    zipdest = Path(config.d['archive_path'])\n",
    "    zipname = Path(config.d['archive_path']+'/'+competition+'.zip')\n",
    "    if not zipname.exists():\n",
    "        print (f'${zipname} does not exist.')\n",
    "        try:\n",
    "            k.competition_download_files(competition, path=zipdest)\n",
    "        except:\n",
    "            raise Exception(f'No competition {competition} found at Kaggle.')\n",
    "    print('Downloading....')\n",
    "    dest = Path(config.d['data_path']+'/'+competition+'/')\n",
    "    if not dest.exists():\n",
    "        print (f'${dest} does not exist.  Extracting...')\n",
    "        file_extract(zipname, dest=dest)\n",
    "        files = os.listdir(dest)\n",
    "        for f in files:\n",
    "            if f.split('.')[-1]=='zip':\n",
    "                print(dest/f)\n",
    "                file_extract(dest/f)\n",
    "                os.remove(dest/f)\n",
    "    return dest"
   ]
  },
  {
   "cell_type": "code",
   "execution_count": null,
   "metadata": {},
   "outputs": [
    {
     "name": "stdout",
     "output_type": "stream",
     "text": [
      "$/home/fredguth/.fastai/archive/blah.zip does not exist.\n"
     ]
    }
   ],
   "source": [
    "import pytest\n",
    "with pytest.raises(Exception) as e_info:\n",
    "    get_kaggle_dataset('blah')\n",
    "assert \"Exception\" in str(e_info)"
   ]
  },
  {
   "cell_type": "code",
   "execution_count": null,
   "metadata": {},
   "outputs": [
    {
     "data": {
      "text/plain": [
       "[dogs-vs-cats, dogs-vs-cats-redux-kernels-edition]"
      ]
     },
     "execution_count": null,
     "metadata": {},
     "output_type": "execute_result"
    }
   ],
   "source": [
    "k.competitions_list(search='dogs')"
   ]
  },
  {
   "cell_type": "code",
   "execution_count": null,
   "metadata": {},
   "outputs": [],
   "source": [
    "#p = get_kaggle_dataset('dogs-vs-cats-redux-kernels-edition')\n",
    "#p"
   ]
  },
  {
   "cell_type": "code",
   "execution_count": null,
   "metadata": {},
   "outputs": [],
   "source": [
    "# export\n",
    "def pathFromCompetition(competition):\n",
    "    \"\"\"Returns path to local competition files.\n",
    "    args:\n",
    "    competition: string containing name of competition\"\"\"\n",
    "    config = Config()\n",
    "    ret =  Path(config.d['data_path']+'/'+competition+'/')\n",
    "    if not ret.exists(): raise Exception('Please download the competition data first.')\n",
    "    return ret"
   ]
  },
  {
   "cell_type": "code",
   "execution_count": null,
   "metadata": {},
   "outputs": [],
   "source": [
    "def confirm(msg=\"\"):\n",
    "    \"\"\"\n",
    "    Ask user to enter Y or N (case-insensitive).\n",
    "    :return: True if the answer is Y.\n",
    "    :rtype: bool\n",
    "    \"\"\"\n",
    "    answer = \"\"\n",
    "    if not msg: msg = \"OK to continue\"\n",
    "    while answer not in [\"y\", \"n\"]:\n",
    "        answer = input(msg+\" [Y/N]? \").lower()\n",
    "    return answer == \"y\""
   ]
  },
  {
   "cell_type": "markdown",
   "metadata": {},
   "source": [
    "## Download data from Kaggle and log at WandB\n"
   ]
  },
  {
   "cell_type": "code",
   "execution_count": null,
   "metadata": {},
   "outputs": [],
   "source": [
    "# export\n",
    "def download_and_log(competition):\n",
    "    \"\"\" Start a Run for data download at WandB, download competition data and log data reference in local machine as an Artifact at WandB.\n",
    "    args:\n",
    "        competition: string containing competition name\n",
    "    returns:\n",
    "        Path to competition data\n",
    "    \"\"\"\n",
    "    try:\n",
    "        p = pathFromCompetition(competition)\n",
    "        if not confirm(f'Data for competition found at {p}\\n Force new download '): return p\n",
    "    except: pass\n",
    "    try:\n",
    "        k.competition_list_files(competition)\n",
    "    except:\n",
    "        print (f'No competition {competition} found at Kaggle.')\n",
    "        return None\n",
    "    # 🚀 start a run, with a type to label it and a project it can call home\n",
    "    with wandb.init(project=competition, job_type=\"download-data\") as run:\n",
    "        path = get_kaggle_dataset(competition)\n",
    "        sizes = {}\n",
    "        raw_data = wandb.Artifact(\n",
    "            competition, type=\"dataset\",\n",
    "            description=f'Raw {competition} dataset.',\n",
    "            metadata={\"source\": \"Kaggle\"})\n",
    "        for b, ds, _ in os.walk(path):\n",
    "            for d in ds:\n",
    "                files = get_image_files(b+'/'+d)\n",
    "                sizes[d] = len(files)\n",
    "                for f in tqdm(files):\n",
    "                    raw_data.add_reference('file://'+str(f))\n",
    "        raw_data.metadata['sizes']=sizes\n",
    "        # ✍️ Save the artifact to W&B.\n",
    "        run.log_artifact(raw_data)\n",
    "        return path"
   ]
  },
  {
   "cell_type": "code",
   "execution_count": null,
   "metadata": {},
   "outputs": [
    {
     "name": "stdout",
     "output_type": "stream",
     "text": [
      "No competition blah found at Kaggle.\n"
     ]
    }
   ],
   "source": [
    "download_and_log('blah')"
   ]
  },
  {
   "cell_type": "code",
   "execution_count": null,
   "metadata": {},
   "outputs": [],
   "source": [
    "# export\n",
    "def setup(competition):\n",
    "    \"\"\" Returns Path to local competition files, download and log data if needed.\n",
    "    \"\"\"\n",
    "    load_dotenv()\n",
    "    k = KaggleApi()\n",
    "    k.authenticate()\n",
    "    try:\n",
    "        k.competition_list_files(competition)\n",
    "    except:\n",
    "        print (f'No competition {competition} found.')\n",
    "        return None\n",
    "    try:\n",
    "        p = pathFromCompetition(competition)\n",
    "    except:\n",
    "        if not confirm(f'Download data for {competition} '): return None\n",
    "        return download_and_log(competition)\n",
    "    return p"
   ]
  },
  {
   "cell_type": "code",
   "execution_count": null,
   "metadata": {},
   "outputs": [
    {
     "name": "stdout",
     "output_type": "stream",
     "text": [
      "No competition dogs found.\n"
     ]
    }
   ],
   "source": [
    "setup('dogs')"
   ]
  },
  {
   "cell_type": "code",
   "execution_count": null,
   "metadata": {},
   "outputs": [
    {
     "data": {
      "text/plain": [
       "Path('/home/fredguth/.fastai/data/dogs-vs-cats-redux-kernels-edition')"
      ]
     },
     "execution_count": null,
     "metadata": {},
     "output_type": "execute_result"
    }
   ],
   "source": [
    "setup('dogs-vs-cats-redux-kernels-edition')"
   ]
  }
 ],
 "metadata": {
  "kernelspec": {
   "display_name": "Python 3",
   "language": "python",
   "name": "python3"
  }
 },
 "nbformat": 4,
 "nbformat_minor": 2
}

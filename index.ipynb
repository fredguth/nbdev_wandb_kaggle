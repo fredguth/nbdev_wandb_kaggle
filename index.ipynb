{
 "cells": [
  {
   "cell_type": "code",
   "execution_count": null,
   "metadata": {},
   "outputs": [],
   "source": [
    "#hide\n",
    "from your_lib.core import *"
   ]
  },
  {
   "cell_type": "markdown",
   "metadata": {},
   "source": [
    "# nbdev + fastai + wandb + kaggle \n",
    "\n",
    "> This repo shows how to setup a project for a kaggle competition using nbdev, fastai and wandb.  As an example we used the classical [Dogs vs Cats](https://www.kaggle.com/c/dogs-vs-cats-redux-kernels-edition) competition "
   ]
  },
  {
   "cell_type": "markdown",
   "metadata": {},
   "source": [
    "## Steps\n",
    "1. fork nbdev_template project (fastai/nbdev_template)\n",
    "`gh repo fork https://github.com/fastai/nbdev_template.git --clone`\n",
    "1. change settings.ini\n",
    "1. set GITHUB_TOKEN with a [personal access token](https://docs.github.com/en/github/authenticating-to-github/creating-a-personal-access-token)\n",
    "💥 danger: check if .environment is in .gitignore.  Do not publish your .environment file.\n",
    "1. In the root directory:\n",
    "`nbdev_new`\n",
    "`nbdev_install_git_hooks`"
   ]
  },
  {
   "cell_type": "markdown",
   "metadata": {},
   "source": [
    "## Notebooks\n",
    "[] 00_setup.ipynb\n",
    "[] 01_eda.ipynb\n",
    "[] 02_train.ipynb\n",
    "[] 03_analyse.ipynb\n",
    "[] 04_submit.ipynb"
   ]
  },
  {
   "cell_type": "markdown",
   "metadata": {},
   "source": [
    "## How to use"
   ]
  },
  {
   "cell_type": "markdown",
   "metadata": {},
   "source": [
    "Fill me in please! Don't forget code examples:"
   ]
  },
  {
   "cell_type": "code",
   "execution_count": null,
   "metadata": {},
   "outputs": [
    {
     "data": {
      "text/plain": [
       "2"
      ]
     },
     "execution_count": null,
     "metadata": {},
     "output_type": "execute_result"
    }
   ],
   "source": [
    "1+1"
   ]
  },
  {
   "cell_type": "code",
   "execution_count": null,
   "metadata": {},
   "outputs": [],
   "source": []
  }
 ],
 "metadata": {
  "kernelspec": {
   "display_name": "Python 3.8.8 64-bit ('base': conda)",
   "name": "python3"
  }
 },
 "nbformat": 4,
 "nbformat_minor": 2
}
